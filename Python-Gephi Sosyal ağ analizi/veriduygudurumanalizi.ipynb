{
  "nbformat": 4,
  "nbformat_minor": 0,
  "metadata": {
    "colab": {
      "provenance": []
    },
    "kernelspec": {
      "name": "python3",
      "display_name": "Python 3"
    },
    "language_info": {
      "name": "python"
    }
  },
  "cells": [
    {
      "cell_type": "code",
      "execution_count": 1,
      "metadata": {
        "colab": {
          "base_uri": "https://localhost:8080/"
        },
        "id": "TP5uZlTpbHTE",
        "outputId": "37fb5493-6e4b-400b-a61e-db58ef892172"
      },
      "outputs": [
        {
          "output_type": "stream",
          "name": "stdout",
          "text": [
            "Looking in indexes: https://pypi.org/simple, https://us-python.pkg.dev/colab-wheels/public/simple/\n",
            "Requirement already satisfied: pandas in /usr/local/lib/python3.10/dist-packages (1.5.3)\n",
            "Requirement already satisfied: python-dateutil>=2.8.1 in /usr/local/lib/python3.10/dist-packages (from pandas) (2.8.2)\n",
            "Requirement already satisfied: pytz>=2020.1 in /usr/local/lib/python3.10/dist-packages (from pandas) (2022.7.1)\n",
            "Requirement already satisfied: numpy>=1.21.0 in /usr/local/lib/python3.10/dist-packages (from pandas) (1.22.4)\n",
            "Requirement already satisfied: six>=1.5 in /usr/local/lib/python3.10/dist-packages (from python-dateutil>=2.8.1->pandas) (1.16.0)\n"
          ]
        }
      ],
      "source": [
        "pip install pandas"
      ]
    },
    {
      "cell_type": "code",
      "source": [
        "pip install -U textblob"
      ],
      "metadata": {
        "colab": {
          "base_uri": "https://localhost:8080/"
        },
        "id": "I6OYU4CBbQDk",
        "outputId": "8984c71f-60b1-4b6a-947e-5dd77b4443bd"
      },
      "execution_count": 2,
      "outputs": [
        {
          "output_type": "stream",
          "name": "stdout",
          "text": [
            "Looking in indexes: https://pypi.org/simple, https://us-python.pkg.dev/colab-wheels/public/simple/\n",
            "Requirement already satisfied: textblob in /usr/local/lib/python3.10/dist-packages (0.17.1)\n",
            "Requirement already satisfied: nltk>=3.1 in /usr/local/lib/python3.10/dist-packages (from textblob) (3.8.1)\n",
            "Requirement already satisfied: click in /usr/local/lib/python3.10/dist-packages (from nltk>=3.1->textblob) (8.1.3)\n",
            "Requirement already satisfied: joblib in /usr/local/lib/python3.10/dist-packages (from nltk>=3.1->textblob) (1.2.0)\n",
            "Requirement already satisfied: regex>=2021.8.3 in /usr/local/lib/python3.10/dist-packages (from nltk>=3.1->textblob) (2022.10.31)\n",
            "Requirement already satisfied: tqdm in /usr/local/lib/python3.10/dist-packages (from nltk>=3.1->textblob) (4.65.0)\n"
          ]
        }
      ]
    },
    {
      "cell_type": "code",
      "source": [
        "from textblob import TextBlob\n",
        "import pandas as pd"
      ],
      "metadata": {
        "id": "YM-4G0n9bUER"
      },
      "execution_count": 3,
      "outputs": []
    },
    {
      "cell_type": "code",
      "source": [
        "veri = [\"Calling all movie buffs! Don't miss the highly acclaimed film 'The Cinematic Journey.' It's a visual masterpiece that will leave you in awe. #movies #film #TheCinematicJourney #masterpiece\"\n",
        ",\"Experience the thrill of a lifetime with our adrenaline-pumping skydiving adventure. Take the leap and conquer your fears today! #skydiving #adventure #thrill #conqueryourfears\"\n",
        ",\"Get ready to rock with our electrifying music festival! Join us for a weekend of non-stop music, dancing, and unforgettable memories. #music #festival #livemusic #dancing #memories\"\n",
        ",\"Looking for a new culinary experience? Try our chef's special tasting menu featuring exquisite flavors and innovative dishes. #culinary #foodie #tastingmenu #flavors #innovation\"\n",
        ",\"Embark on a journey through time with our historical walking tour. Discover the rich heritage and fascinating stories of our city. #history #walkingtour #heritage #citytour\"\n",
        ",\"Attention all bookworms! Dive into a world of imagination with our extensive collection of books. Find your next favorite read today. #books #reading #imagination #booklovers\"\n",
        ",\"Escape the city hustle and bustle and unwind in our luxurious spa retreat. Indulge in pampering treatments and rejuvenate your mind, body, and soul. #spa #relaxation #pampering #wellness\"\n",
        ",\"Join us for a captivating evening of theater and witness the magic of live performances. Get your tickets now for an unforgettable night. #theater #performances #livetheater #entertainment\"\n",
        ",\"Calling all art enthusiasts! Visit our gallery and explore the mesmerizing works of talented artists from around the world. #art #gallery #artists #creativity\"\n",
        ",\"Unleash your inner adventurer with our thrilling outdoor activities. From hiking to kayaking, there's something for everyone. #adventure #outdooractivities #hiking #kayaking\"\n",
        ",\"Discover the wonders of nature with our guided wildlife safari. Get up close and personal with majestic animals in their natural habitat. #wildlife #safari #nature #animallovers\"\n",
        ",\"Attention all fitness enthusiasts! Our gym offers state-of-the-art equipment and personalized training programs. Achieve your fitness goals with us today. #fitness #gym #equipment #training #fitnessgoals\"\n",
        ",\"Upgrade your skincare routine with our premium line of skincare products. Experience the ultimate pampering for your skin. #skincare #beauty #pampering #premiumproducts\"\n",
        ",\"Looking for adventure? Join the Navy SEALs and experience the thrill of special operations. Are you up for the challenge? #NavySEALs #specialoperations #adventure #challenge\"\n",
        ",\"Invest in your future with our comprehensive financial planning services. Let our experts guide you towards financial success. #financialplanning #investing #expertadvice\"\n",
        ",\"Attention fashionistas! Don't miss our exclusive fashion show, where top designers showcase their latest collections. Be the first to witness the hottest trends of the season. #fashion #runway #trends #designers\"\n",
        ",\"Calling all sports fans! Join us for an action-packed game and cheer for your favorite team. Let's create an electric atmosphere together. #sports #game #fans #teamspirit\"\n",
        ",\"Indulge in a gastronomic delight at our international food festival. Taste flavors from around the world and satisfy your culinary cravings. #foodfestival #gastronomy #flavors #foodlover\"\n",
        ",\"Experience the thrill of a lifetime with our bungee jumping adventure. Take the leap and feel the rush as you freefall towards the ground. #bungeejumping #adventure #thrillseeker #freefall\"\n",
        ",\"Join us for a weekend of laughter and entertainment at our comedy festival. Get ready for a lineup of hilarious comedians that will leave you in stitches. #comedy #laughter #entertainment #comedyfestival\"\n",
        ",\"Discover the mysteries of the deep sea with our scuba diving expedition. Dive into a world of vibrant coral reefs and encounter fascinating marine life. #scubadiving #underwater #marineexploration #adventure\"\n",
        ",\"Step into the world of virtual reality with our immersive gaming experience. Strap on the headset and get ready for a mind-blowing adventure like never before. #virtualreality #gaming #immersiveexperience #adventure\"\n",
        ",\"Unwind and rejuvenate with our yoga retreat. Connect with your inner self and find inner peace amidst serene surroundings. #yogaretreat #wellness #innerpeace #serenity\"\n",
        ",\"Calling all photography enthusiasts! Join our photography workshop and learn from industry experts. Capture stunning images and take your photography skills to the next level. #photography #workshop #skills #creativity\"\n",
        ",\"Explore the enchanting trails of our national park and witness the beauty of untouched nature. Lace up your hiking boots and embark on an unforgettable journey. #nationalpark #hiking #naturelovers #outdooradventure\"\n",
        ",\"Immerse yourself in the world of art at our interactive exhibition. Engage with thought-provoking installations and experience art in a whole new way. #artexhibition #interactiveart #creativity #engagement\"\n",
        "\n",
        "\n",
        "        ]"
      ],
      "metadata": {
        "id": "-dwmwgs5bXTD"
      },
      "execution_count": 7,
      "outputs": []
    },
    {
      "cell_type": "code",
      "source": [
        "for yazı in veri:\n",
        "    print(TextBlob(yazı).sentiment)"
      ],
      "metadata": {
        "colab": {
          "base_uri": "https://localhost:8080/"
        },
        "id": "S4Q01tICeD_w",
        "outputId": "58801834-7ea6-4802-83aa-fb5e4af1fa30"
      },
      "execution_count": 8,
      "outputs": [
        {
          "output_type": "stream",
          "name": "stdout",
          "text": [
            "Sentiment(polarity=0.05333333333333334, subjectivity=0.24666666666666667)\n",
            "Sentiment(polarity=0.0, subjectivity=0.0)\n",
            "Sentiment(polarity=0.525, subjectivity=0.75)\n",
            "Sentiment(polarity=0.33225108225108224, subjectivity=0.5043290043290044)\n",
            "Sentiment(polarity=0.35833333333333334, subjectivity=0.5333333333333333)\n",
            "Sentiment(polarity=0.16666666666666666, subjectivity=0.4444444444444444)\n",
            "Sentiment(polarity=0.0, subjectivity=0.0)\n",
            "Sentiment(polarity=0.48409090909090907, subjectivity=0.875)\n",
            "Sentiment(polarity=0.5, subjectivity=0.8)\n",
            "Sentiment(polarity=0.125, subjectivity=0.5833333333333334)\n",
            "Sentiment(polarity=0.05, subjectivity=0.35)\n",
            "Sentiment(polarity=0.1, subjectivity=0.0)\n",
            "Sentiment(polarity=0.0, subjectivity=1.0)\n",
            "Sentiment(polarity=0.35714285714285715, subjectivity=0.5714285714285714)\n",
            "Sentiment(polarity=0.075, subjectivity=0.03125)\n",
            "Sentiment(polarity=0.4166666666666667, subjectivity=0.5777777777777777)\n",
            "Sentiment(polarity=-0.10000000000000002, subjectivity=0.6)\n",
            "Sentiment(polarity=0.0, subjectivity=0.0)\n",
            "Sentiment(polarity=0.0, subjectivity=0.0)\n",
            "Sentiment(polarity=0.35, subjectivity=0.75)\n",
            "Sentiment(polarity=0.28888888888888886, subjectivity=0.5277777777777778)\n",
            "Sentiment(polarity=0.2, subjectivity=0.5)\n",
            "Sentiment(polarity=0.0, subjectivity=0.16666666666666666)\n",
            "Sentiment(polarity=0.25, subjectivity=0.5)\n",
            "Sentiment(polarity=0.8, subjectivity=1.0)\n",
            "Sentiment(polarity=0.24545454545454548, subjectivity=0.38484848484848483)\n"
          ]
        }
      ]
    }
  ]
}