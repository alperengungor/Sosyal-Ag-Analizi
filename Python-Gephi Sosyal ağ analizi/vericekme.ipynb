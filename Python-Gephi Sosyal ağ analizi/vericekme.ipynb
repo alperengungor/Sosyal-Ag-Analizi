{
  "nbformat": 4,
  "nbformat_minor": 0,
  "metadata": {
    "colab": {
      "provenance": []
    },
    "kernelspec": {
      "name": "python3",
      "display_name": "Python 3"
    },
    "language_info": {
      "name": "python"
    }
  },
  "cells": [
    {
      "cell_type": "code",
      "execution_count": 1,
      "metadata": {
        "colab": {
          "base_uri": "https://localhost:8080/"
        },
        "id": "evrO_hCOXXwY",
        "outputId": "53379066-62cd-48ec-8dbc-64e4df889901"
      },
      "outputs": [
        {
          "output_type": "stream",
          "name": "stdout",
          "text": [
            "Looking in indexes: https://pypi.org/simple, https://us-python.pkg.dev/colab-wheels/public/simple/\n",
            "Collecting git+https://github.com/JustAnotherArchivist/snscrape.git\n",
            "  Cloning https://github.com/JustAnotherArchivist/snscrape.git to /tmp/pip-req-build-4okyjmcc\n",
            "  Running command git clone --filter=blob:none --quiet https://github.com/JustAnotherArchivist/snscrape.git /tmp/pip-req-build-4okyjmcc\n",
            "  Resolved https://github.com/JustAnotherArchivist/snscrape.git to commit 614d4c2029a62d348ca56598f87c425966aaec66\n",
            "  Installing build dependencies ... \u001b[?25l\u001b[?25hdone\n",
            "  Getting requirements to build wheel ... \u001b[?25l\u001b[?25hdone\n",
            "  Installing backend dependencies ... \u001b[?25l\u001b[?25hdone\n",
            "  Preparing metadata (pyproject.toml) ... \u001b[?25l\u001b[?25hdone\n",
            "Requirement already satisfied: requests[socks] in /usr/local/lib/python3.10/dist-packages (from snscrape==0.7.0.20230622) (2.27.1)\n",
            "Requirement already satisfied: lxml in /usr/local/lib/python3.10/dist-packages (from snscrape==0.7.0.20230622) (4.9.2)\n",
            "Requirement already satisfied: beautifulsoup4 in /usr/local/lib/python3.10/dist-packages (from snscrape==0.7.0.20230622) (4.11.2)\n",
            "Requirement already satisfied: filelock in /usr/local/lib/python3.10/dist-packages (from snscrape==0.7.0.20230622) (3.12.0)\n",
            "Requirement already satisfied: soupsieve>1.2 in /usr/local/lib/python3.10/dist-packages (from beautifulsoup4->snscrape==0.7.0.20230622) (2.4.1)\n",
            "Requirement already satisfied: urllib3<1.27,>=1.21.1 in /usr/local/lib/python3.10/dist-packages (from requests[socks]->snscrape==0.7.0.20230622) (1.26.15)\n",
            "Requirement already satisfied: certifi>=2017.4.17 in /usr/local/lib/python3.10/dist-packages (from requests[socks]->snscrape==0.7.0.20230622) (2022.12.7)\n",
            "Requirement already satisfied: charset-normalizer~=2.0.0 in /usr/local/lib/python3.10/dist-packages (from requests[socks]->snscrape==0.7.0.20230622) (2.0.12)\n",
            "Requirement already satisfied: idna<4,>=2.5 in /usr/local/lib/python3.10/dist-packages (from requests[socks]->snscrape==0.7.0.20230622) (3.4)\n",
            "Requirement already satisfied: PySocks!=1.5.7,>=1.5.6 in /usr/local/lib/python3.10/dist-packages (from requests[socks]->snscrape==0.7.0.20230622) (1.7.1)\n",
            "Building wheels for collected packages: snscrape\n",
            "  Building wheel for snscrape (pyproject.toml) ... \u001b[?25l\u001b[?25hdone\n",
            "  Created wheel for snscrape: filename=snscrape-0.7.0.20230622-py3-none-any.whl size=74814 sha256=83a6bfbbf1d7f6b7412c71b6379375bc0cfa15df5456609bcf5263a44864fe00\n",
            "  Stored in directory: /tmp/pip-ephem-wheel-cache-mz8u2m56/wheels/05/e9/f7/57056e7c7e44b1feed932fa49fdec9d706c4f563e37160ab74\n",
            "Successfully built snscrape\n",
            "Installing collected packages: snscrape\n",
            "Successfully installed snscrape-0.7.0.20230622\n"
          ]
        }
      ],
      "source": [
        "pip install git+https://github.com/JustAnotherArchivist/snscrape.git"
      ]
    },
    {
      "cell_type": "code",
      "source": [
        "import snscrape.modules.twitter as sntwitter\n",
        "import pandas as pd\n",
        "from datetime import datetime, timedelta"
      ],
      "metadata": {
        "id": "Jf5Zb3yRXhpD"
      },
      "execution_count": 2,
      "outputs": []
    },
    {
      "cell_type": "code",
      "source": [
        "# Hashtag\n",
        "hashtag = \"#OceanGate\""
      ],
      "metadata": {
        "id": "xbWt5sdWXk_D"
      },
      "execution_count": 3,
      "outputs": []
    },
    {
      "cell_type": "code",
      "source": [
        "# Tarih aralığı\n",
        "today = datetime.now().date()\n",
        "month_ago = today - timedelta(days=15)"
      ],
      "metadata": {
        "id": "quknsTUKYC_W"
      },
      "execution_count": 16,
      "outputs": []
    },
    {
      "cell_type": "code",
      "source": [
        "# Sorgu\n",
        "query = f'{hashtag} since:{month_ago}'"
      ],
      "metadata": {
        "id": "BYaL_berYMYh"
      },
      "execution_count": 17,
      "outputs": []
    },
    {
      "cell_type": "code",
      "source": [
        "tweets_list = []\n",
        "# max çekilecek tweet sayısı\n",
        "max_tweets = 1000\n",
        "for i, tweet in enumerate(sntwitter.TwitterHashtagScraper(query).get_items()):\n",
        "    if i >= max_tweets:\n",
        "        break\n",
        "    tweets_list.append([tweet.date, tweet.id,tweet.username,tweet.user.id,tweet.hashtags, tweet.content, tweet.likeCount, tweet.retweetCount, tweet.replyCount])"
      ],
      "metadata": {
        "colab": {
          "base_uri": "https://localhost:8080/"
        },
        "id": "ISJuX923YPuM",
        "outputId": "2143e09e-edca-42e8-e58c-571dd8bedcea"
      },
      "execution_count": 19,
      "outputs": [
        {
          "output_type": "stream",
          "name": "stderr",
          "text": [
            "<ipython-input-19-899cfd7cfc40>:7: DeprecatedFeatureWarning: username is deprecated, use user.username instead\n",
            "  tweets_list.append([tweet.date, tweet.id,tweet.username,tweet.user.id,tweet.hashtags, tweet.content, tweet.likeCount, tweet.retweetCount, tweet.replyCount])\n",
            "<ipython-input-19-899cfd7cfc40>:7: DeprecatedFeatureWarning: content is deprecated, use rawContent instead\n",
            "  tweets_list.append([tweet.date, tweet.id,tweet.username,tweet.user.id,tweet.hashtags, tweet.content, tweet.likeCount, tweet.retweetCount, tweet.replyCount])\n",
            "WARNING:snscrape.modules.twitter:Unavailable user in card on tweet 1670503137784877056\n",
            "WARNING:snscrape.modules.twitter:User 14204245 not found in user refs in card on tweet 1670503137784877056\n"
          ]
        }
      ]
    },
    {
      "cell_type": "code",
      "source": [
        "# Verileri DataFrame'e dönüştürme\n",
        "df = pd.DataFrame(tweets_list, columns=['Datetime', 'Tweet Id', 'username' ,'userid','hastags' ,  'Content', 'Like Count', 'Retweet Count', 'Reply Count'])"
      ],
      "metadata": {
        "id": "GbKhdBxiYWmY"
      },
      "execution_count": 20,
      "outputs": []
    },
    {
      "cell_type": "code",
      "source": [
        "df['Datetime'] = pd.to_datetime(df['Datetime']).dt.tz_localize(None)"
      ],
      "metadata": {
        "id": "WVnUZXJaZQrM"
      },
      "execution_count": 21,
      "outputs": []
    },
    {
      "cell_type": "code",
      "source": [
        "df.to_excel('oceangate.xlsx', index=False)"
      ],
      "metadata": {
        "id": "hjDeaiO1ZUiF"
      },
      "execution_count": 22,
      "outputs": []
    },
    {
      "cell_type": "code",
      "source": [
        "# Verileri Excel dosyasından okuma\n",
        "df = pd.read_excel('oceangate.xlsx')"
      ],
      "metadata": {
        "id": "6k1oBjUVZbqN"
      },
      "execution_count": 23,
      "outputs": []
    },
    {
      "cell_type": "code",
      "source": [
        "# Düzenlenmiş verileri tutacak listeleri oluşturma\n",
        "source_list = []\n",
        "target_list = []\n",
        "type_list = []\n",
        "weight_list = []"
      ],
      "metadata": {
        "id": "5WnM36c7ZdwN"
      },
      "execution_count": 24,
      "outputs": []
    },
    {
      "cell_type": "code",
      "source": [
        "# Veri setini döngüye alarak düzenleme işlemlerini gerçekleştirme\n",
        "for index, row in df.iterrows():\n",
        "    hashtags = row['hastags']\n",
        "    username = row['username']\n",
        "    like_count = row['Like Count']\n",
        "    retweet_count = row['Retweet Count']\n",
        "    reply_count = row['Reply Count']\n",
        "\n",
        "\n",
        "    # Hashtag'leri ayrıştırma\n",
        "    hashtag_list = hashtags.strip(\"[]\").replace(\"'\", \"\").split(',')\n",
        "\n",
        "    # Hashtag listesini döngüye alarak düğüm ve kenarları oluşturma\n",
        "    for hashtag in hashtag_list:\n",
        "        hashtag = hashtag.strip()  # Boşlukları kaldırma\n",
        "\n",
        "        # hastag ismi\n",
        "        # birden çok hastag varsa alt alta o hastagleri de yaz\n",
        "        if hashtag.lower() == 'oceangate':\n",
        "            source = 'oceangate'\n",
        "            target = username\n",
        "            relation_type = 'mention'\n",
        "            weight = 1+like_count + retweet_count + reply_count\n",
        "            source_list.append(source)\n",
        "            target_list.append(target)\n",
        "            type_list.append(relation_type)\n",
        "            weight_list.append(weight)"
      ],
      "metadata": {
        "id": "K688fg7lZfXt"
      },
      "execution_count": 25,
      "outputs": []
    },
    {
      "cell_type": "code",
      "source": [
        "# DataFrame'i oluştur\n",
        "data = {\n",
        "    'Source': source_list,\n",
        "    'Target': target_list,\n",
        "    'Type': type_list,\n",
        "    'Weight': weight_list\n",
        "}"
      ],
      "metadata": {
        "id": "xiIQPI98ZnSy"
      },
      "execution_count": 26,
      "outputs": []
    },
    {
      "cell_type": "code",
      "source": [
        "df_new = pd.DataFrame(data)"
      ],
      "metadata": {
        "id": "d1LQY9tJZrj0"
      },
      "execution_count": 27,
      "outputs": []
    },
    {
      "cell_type": "code",
      "source": [
        "df_new.to_csv('oceangate_gephi', index=False)"
      ],
      "metadata": {
        "id": "brm-1nKWZsMj"
      },
      "execution_count": 28,
      "outputs": []
    }
  ]
}